{
 "cells": [
  {
   "cell_type": "markdown",
   "metadata": {},
   "source": [
    "Day 1: Part I"
   ]
  },
  {
   "cell_type": "code",
   "execution_count": 4,
   "metadata": {},
   "outputs": [
    {
     "data": {
      "text/plain": [
       "1651298"
      ]
     },
     "execution_count": 4,
     "metadata": {},
     "output_type": "execute_result"
    }
   ],
   "source": [
    "l1 = []\n",
    "l2 = []\n",
    "\n",
    "with open('inputs/t1.txt') as f:\n",
    "    for l in f.readlines():\n",
    "        e1, e2 = l.split('   ')\n",
    "        l1.append(int(e1))\n",
    "        l2.append(int(e2))\n",
    "\n",
    "l1 = sorted(l1)\n",
    "l2 = sorted(l2)\n",
    "\n",
    "sum = 0\n",
    "for idx in range(len(l1)):\n",
    "    sum += abs(l1[idx] - l2[idx])\n",
    "sum"
   ]
  },
  {
   "cell_type": "markdown",
   "metadata": {},
   "source": [
    "Day 1: Part II"
   ]
  },
  {
   "cell_type": "code",
   "execution_count": 6,
   "metadata": {},
   "outputs": [
    {
     "data": {
      "text/plain": [
       "21306195"
      ]
     },
     "execution_count": 6,
     "metadata": {},
     "output_type": "execute_result"
    }
   ],
   "source": [
    "l1 = []\n",
    "l2 = []\n",
    "\n",
    "with open('inputs/t1.txt') as f:\n",
    "    for l in f.readlines():\n",
    "        e1, e2 = l.split('   ')\n",
    "        l1.append(int(e1))\n",
    "        l2.append(int(e2))\n",
    "\n",
    "# First pass: get dict of each e in l1 and their freq in l2\n",
    "fm = {}\n",
    "for e in l1:\n",
    "    fm[e] = l2.count(e)\n",
    "\n",
    "# Second pass: Go through e in l1 and append similarity = n*freq to total\n",
    "total = 0\n",
    "for e in l1:\n",
    "    total += fm[e]*e\n",
    "\n",
    "total\n",
    "    "
   ]
  },
  {
   "cell_type": "markdown",
   "metadata": {},
   "source": [
    "Day 2: Part I"
   ]
  },
  {
   "cell_type": "code",
   "execution_count": 18,
   "metadata": {},
   "outputs": [
    {
     "data": {
      "text/plain": [
       "639"
      ]
     },
     "execution_count": 18,
     "metadata": {},
     "output_type": "execute_result"
    }
   ],
   "source": [
    "safe_reports = 0\n",
    "with open('inputs/t2.txt') as f:\n",
    "    for l in f.readlines():\n",
    "        l = [int(i) for i in l.split(' ')]\n",
    "        pairs = list(zip(l, l[1:]))\n",
    "        diffs = [x[0]-x[1] for x in pairs]\n",
    "        #diffs\n",
    "        # 1. Strict inc or dec\n",
    "        all_neg = all([d < 0 for d in diffs])\n",
    "        all_pos = all([d > 0 for d in diffs])\n",
    "        is_strict = all_neg or all_pos\n",
    "        # 2. Adjacent 1<= abs(diff) <= 3\n",
    "        is_inrange = all([abs(d) <= 3 and abs(d) >= 1 for d in diffs])\n",
    "        if is_strict and is_inrange:\n",
    "            safe_reports+=1\n",
    "\n",
    "safe_reports"
   ]
  },
  {
   "cell_type": "markdown",
   "metadata": {},
   "source": [
    "Day 2: Part II"
   ]
  },
  {
   "cell_type": "code",
   "execution_count": 35,
   "metadata": {},
   "outputs": [
    {
     "data": {
      "text/plain": [
       "674"
      ]
     },
     "execution_count": 35,
     "metadata": {},
     "output_type": "execute_result"
    }
   ],
   "source": [
    "safe_reports = 0\n",
    "with open('inputs/t2.txt') as f:\n",
    "    for z in f.readlines():\n",
    "        z = [int(i) for i in z.split(' ')]\n",
    "        versions = [z[:i] + z[i+1:] for i in range(len(z))] + [z]\n",
    "        for l in versions:\n",
    "            pairs = list(zip(l, l[1:]))\n",
    "            diffs = [x[0]-x[1] for x in pairs]\n",
    "            #diffs\n",
    "            # 1. Strict inc or dec\n",
    "            all_neg = all([d < 0 for d in diffs])\n",
    "            all_pos = all([d > 0 for d in diffs])\n",
    "            is_strict = all_neg or all_pos\n",
    "            # 2. Adjacent 1<= abs(diff) <= 3\n",
    "            is_inrange = all([abs(d) <= 3 and abs(d) >= 1 for d in diffs])\n",
    "            if is_strict and is_inrange:\n",
    "                safe_reports+=1\n",
    "                break\n",
    "\n",
    "safe_reports"
   ]
  },
  {
   "cell_type": "markdown",
   "metadata": {},
   "source": [
    "Day 3: Part I"
   ]
  },
  {
   "cell_type": "code",
   "execution_count": 1,
   "metadata": {},
   "outputs": [
    {
     "data": {
      "text/plain": [
       "174103751"
      ]
     },
     "execution_count": 1,
     "metadata": {},
     "output_type": "execute_result"
    }
   ],
   "source": [
    "import re\n",
    "\n",
    "with open('inputs/t3.txt') as f:\n",
    "    total = 0\n",
    "    for l in f.readlines():\n",
    "        pairs = re.findall(r\"mul\\((\\d*),(\\d*)\\)\", l)\n",
    "        muls = [int(x[0])*int(x[1]) for x in pairs]\n",
    "        total += sum(muls)\n",
    "\n",
    "total"
   ]
  },
  {
   "cell_type": "markdown",
   "metadata": {},
   "source": [
    "Day 3: Part II"
   ]
  },
  {
   "cell_type": "code",
   "execution_count": 22,
   "metadata": {},
   "outputs": [
    {
     "data": {
      "text/plain": [
       "100411201"
      ]
     },
     "execution_count": 22,
     "metadata": {},
     "output_type": "execute_result"
    }
   ],
   "source": [
    "import re\n",
    "\n",
    "with open('inputs/t3.txt') as f:\n",
    "    total = 0\n",
    "    do = True\n",
    "    for l in f.readlines():\n",
    "        matches = re.findall(r\"(do\\(\\)|don't\\(\\)|mul\\(\\d+,\\d+\\))\", l)\n",
    "        for m in matches:\n",
    "            if \"mul(\" in m and do:\n",
    "                n1, n2 = re.findall(r\"mul\\((\\d*),(\\d*)\\)\",m)[0]\n",
    "                total += int(n1)*int(n2)\n",
    "            if m == \"don't()\":\n",
    "                do = False\n",
    "            if m == \"do()\":\n",
    "                do = True\n",
    "\n",
    "total"
   ]
  },
  {
   "cell_type": "markdown",
   "metadata": {},
   "source": [
    "Day 4: Part I\n",
    "\n",
    "1. Scan for X locations > root node\n",
    "2. Check proximity of X for M\n",
    "3. Repeat for m A, S\n",
    "\n",
    "Note: For memory, perform each search one-by one"
   ]
  },
  {
   "cell_type": "code",
   "execution_count": 119,
   "metadata": {},
   "outputs": [
    {
     "name": "stdout",
     "output_type": "stream",
     "text": [
      "2483\n"
     ]
    }
   ],
   "source": [
    "from itertools import product\n",
    "\n",
    "grid = []\n",
    "with open('inputs/t4.txt') as f:\n",
    "    for line in f:\n",
    "        row = list(line.strip())\n",
    "        grid.append(row)\n",
    "\n",
    "dirs = list(product([-1, 0, 1], [-1, 0, 1]))\n",
    "dirs.remove((0, 0))\n",
    "\n",
    "target = \"XMAS\"\n",
    "word_len = len(target)\n",
    "count = 0\n",
    "row_len = len(grid[0])\n",
    "col_len = len(grid)\n",
    "\n",
    "for y in range(col_len):\n",
    "    for x in range(row_len):\n",
    "        if grid[y][x] == 'X':\n",
    "            for dy, dx in dirs:\n",
    "                end_y = y + (word_len - 1) * dy\n",
    "                end_x = x + (word_len - 1) * dx\n",
    "\n",
    "                # Bound check\n",
    "                if 0 <= end_y < col_len and 0 <= end_x < row_len:\n",
    "                    match = True\n",
    "                    for k in range(1, word_len):\n",
    "                        c = target[k]\n",
    "                        if grid[y + k * dy][x + k * dx] != c:\n",
    "                            match = False\n",
    "                            break\n",
    "                    if match:\n",
    "                        #print(f'Found XMAS at [{y},{x}] in direction: ({dy}, {dx})')\n",
    "                        count += 1\n",
    "\n",
    "print(count)\n"
   ]
  },
  {
   "cell_type": "markdown",
   "metadata": {},
   "source": [
    "Day 4: Part II"
   ]
  },
  {
   "cell_type": "markdown",
   "metadata": {},
   "source": [
    "* Find each A which is the root\n",
    "* Check each root if the X around it is one of the possible Xs\n",
    "* diag1 = M and S or S and M\n",
    "* diag2 = M and S or S and M\n",
    "* if diag1 and diag2: this is an X-MAS"
   ]
  },
  {
   "cell_type": "code",
   "execution_count": 1,
   "metadata": {},
   "outputs": [
    {
     "data": {
      "text/plain": [
       "1925"
      ]
     },
     "execution_count": 1,
     "metadata": {},
     "output_type": "execute_result"
    }
   ],
   "source": [
    "grid = []\n",
    "with open('inputs/t4.txt') as f:\n",
    "    for line in f:\n",
    "        row = list(line.strip())\n",
    "        grid.append(row)\n",
    "\n",
    "row_len = len(grid[0])\n",
    "col_len = len(grid)\n",
    "cross = 0\n",
    "for y in range(1,col_len-1):\n",
    "    for x in range(1,row_len-1):\n",
    "        if grid[y][x] == 'A':\n",
    "            diag1 = (grid[y+1][x+1] == 'S' and grid[y-1][x-1] == 'M') or (grid[y+1][x+1] == 'M' and grid[y-1][x-1] == 'S')\n",
    "            diag2 = (grid[y+1][x-1] == 'S' and grid[y-1][x+1] == 'M') or (grid[y+1][x-1] == 'M' and grid[y-1][x+1] == 'S')\n",
    "            if diag1 and diag2:\n",
    "                cross+=1\n",
    "            \n",
    "cross"
   ]
  },
  {
   "cell_type": "markdown",
   "metadata": {},
   "source": [
    "Day 5: Part I"
   ]
  },
  {
   "cell_type": "code",
   "execution_count": 45,
   "metadata": {},
   "outputs": [
    {
     "data": {
      "text/plain": [
       "4689"
      ]
     },
     "execution_count": 45,
     "metadata": {},
     "output_type": "execute_result"
    }
   ],
   "source": [
    "update_rules = []\n",
    "page_numbers = []\n",
    "with open('inputs/t5.txt') as f:\n",
    "    for l in f.readlines():\n",
    "        #print(l)\n",
    "        if '|' in l:\n",
    "            rule = l.strip().split('|')\n",
    "            update_rules.append((rule[0],rule[1]))\n",
    "        if ',' in l:\n",
    "            pages = l.strip().split(',')\n",
    "            page_numbers.append(pages)\n",
    "\n",
    "total = 0\n",
    "for page_order in page_numbers:\n",
    "    correct = True\n",
    "    for rule in update_rules:\n",
    "        if rule[0] in page_order and rule[1] in page_order:\n",
    "            if not page_order.index(rule[0]) < page_order.index(rule[1]):\n",
    "                correct = False\n",
    "                break\n",
    "    if correct:\n",
    "        total+=int(page_order[int(len(page_order)//2)])\n",
    "total"
   ]
  },
  {
   "cell_type": "markdown",
   "metadata": {},
   "source": [
    "Day 5: Part II"
   ]
  },
  {
   "cell_type": "code",
   "execution_count": 43,
   "metadata": {},
   "outputs": [
    {
     "data": {
      "text/plain": [
       "6336"
      ]
     },
     "execution_count": 43,
     "metadata": {},
     "output_type": "execute_result"
    }
   ],
   "source": [
    "update_rules = []\n",
    "page_numbers = []\n",
    "\n",
    "with open('inputs/t5.txt') as f:\n",
    "    for l in f.readlines():\n",
    "        if '|' in l:\n",
    "            rule = l.strip().split('|')\n",
    "            update_rules.append((rule[0], rule[1]))\n",
    "        if ',' in l:\n",
    "            pages = l.strip().split(',')\n",
    "            page_numbers.append(pages)\n",
    "\n",
    "total = 0\n",
    "\n",
    "for page_order in page_numbers:\n",
    "    correct = True\n",
    "    for rule in update_rules:\n",
    "        if rule[0] in page_order and rule[1] in page_order:\n",
    "            if not page_order.index(rule[0]) < page_order.index(rule[1]):\n",
    "                faults = True\n",
    "                while faults:\n",
    "                    faults = False\n",
    "                    for rule in update_rules:\n",
    "                        if rule[0] in page_order and rule[1] in page_order:\n",
    "                            idx_low = page_order.index(rule[0])\n",
    "                            idx_high = page_order.index(rule[1])\n",
    "                            if idx_low > idx_high:\n",
    "                                page_order.insert(idx_low, page_order.pop(idx_high))\n",
    "                                faults = True\n",
    "\n",
    "                total += int(page_order[len(page_order) // 2])\n",
    "\n",
    "total\n"
   ]
  },
  {
   "cell_type": "markdown",
   "metadata": {},
   "source": [
    "Day 6: Part I"
   ]
  },
  {
   "cell_type": "code",
   "execution_count": 52,
   "metadata": {},
   "outputs": [
    {
     "name": "stdout",
     "output_type": "stream",
     "text": [
      "4939\n"
     ]
    }
   ],
   "source": [
    "grid = {}\n",
    "pos_guard = None\n",
    "with open('inputs/t6.txt') as f:\n",
    "    for rdx, l in enumerate(f.readlines()):\n",
    "        for cdx, c in enumerate(list(l)):\n",
    "            grid[rdx+cdx*1j] = c\n",
    "            if c == '^':\n",
    "                pos_guard = rdx+cdx*1j\n",
    "\n",
    "def walk(grid):\n",
    "\n",
    "    dir = -1\n",
    "    pos = pos_guard + dir\n",
    "    explored = set()\n",
    "    while pos in grid and (pos, dir) not in explored:\n",
    "        explored.add((pos, dir))\n",
    "        if grid.get(pos+dir) == '#':\n",
    "            dir *= -1j\n",
    "        else:\n",
    "            pos += dir\n",
    "    return {p for p,_ in explored}, (pos, dir) in explored\n",
    "\n",
    "path, explored = walk(grid)\n",
    "print(len(path))\n"
   ]
  },
  {
   "cell_type": "markdown",
   "metadata": {},
   "source": [
    "Day 6: Part II"
   ]
  },
  {
   "cell_type": "code",
   "execution_count": 56,
   "metadata": {},
   "outputs": [
    {
     "name": "stdout",
     "output_type": "stream",
     "text": [
      "1434\n"
     ]
    }
   ],
   "source": [
    "print(sum(walk(grid | {o : '#'})[1] for o in path))"
   ]
  },
  {
   "cell_type": "markdown",
   "metadata": {},
   "source": [
    "Day 7: Part I"
   ]
  },
  {
   "cell_type": "code",
   "execution_count": 109,
   "metadata": {},
   "outputs": [
    {
     "data": {
      "text/plain": [
       "14711933466277"
      ]
     },
     "execution_count": 109,
     "metadata": {},
     "output_type": "execute_result"
    }
   ],
   "source": [
    "from collections import deque\n",
    "\n",
    "equations = {}\n",
    "with open('inputs/t7.txt') as f:\n",
    "    for l in f.readlines():\n",
    "        data = l.strip().split(':')\n",
    "        equations[int(data[0])] = list(map(int, data[1].strip().split(' ')))\n",
    "\n",
    "class Node:\n",
    "    def __init__(self, value):\n",
    "        self.value = value\n",
    "        self.add = None\n",
    "        self.mul = None\n",
    "\n",
    "    def build(self, coeffs):\n",
    "        if len(coeffs):\n",
    "            self.add = Node(self.value + coeffs[0])\n",
    "            self.mul = Node(self.value * coeffs[0])\n",
    "            self.add.build(coeffs[1:])\n",
    "            self.mul.build(coeffs[1:])\n",
    "\n",
    "    def solution_exists(self, target):\n",
    "        queue = deque()\n",
    "        queue.append(self)\n",
    "        while queue:\n",
    "            node = queue.popleft()\n",
    "            if node.add is None:\n",
    "                    if node.value == target:\n",
    "                        return True\n",
    "            else:\n",
    "                queue.append(node.add)\n",
    "                queue.append(node.mul)\n",
    "        return False\n",
    "    \n",
    "valid=0\n",
    "for result, coefficients in equations.items():\n",
    "    root = Node(coefficients[0])\n",
    "    root.build(coefficients[1:])\n",
    "    valid += root.solution_exists(result) * result\n",
    "    \n",
    "\n",
    "\n",
    "valid"
   ]
  },
  {
   "cell_type": "markdown",
   "metadata": {},
   "source": [
    "Day 7: Part II"
   ]
  },
  {
   "cell_type": "code",
   "execution_count": 111,
   "metadata": {},
   "outputs": [
    {
     "data": {
      "text/plain": [
       "286580387663654"
      ]
     },
     "execution_count": 111,
     "metadata": {},
     "output_type": "execute_result"
    }
   ],
   "source": [
    "from collections import deque\n",
    "\n",
    "equations = {}\n",
    "with open('inputs/t7.txt') as f:\n",
    "    for l in f.readlines():\n",
    "        data = l.strip().split(':')\n",
    "        equations[int(data[0])] = list(map(int, data[1].strip().split(' ')))\n",
    "\n",
    "class Node:\n",
    "    def __init__(self, value):\n",
    "        self.value = value\n",
    "        self.add = None\n",
    "        self.mul = None\n",
    "        self.con = None\n",
    "\n",
    "    def build(self, coeffs):\n",
    "        if len(coeffs):\n",
    "            self.add = Node(self.value + coeffs[0])\n",
    "            self.mul = Node(self.value * coeffs[0])\n",
    "            self.con = Node(self._concat_op(self.value, coeffs[0]))\n",
    "            self.add.build(coeffs[1:])\n",
    "            self.mul.build(coeffs[1:])\n",
    "            self.con.build(coeffs[1:])\n",
    "\n",
    "    def solution_exists(self, target):\n",
    "        queue = deque()\n",
    "        queue.append(self)\n",
    "        while queue:\n",
    "            node = queue.popleft()\n",
    "            if node.add is None:\n",
    "                    if node.value == target:\n",
    "                        return True\n",
    "            else:\n",
    "                queue.append(node.add)\n",
    "                queue.append(node.mul)\n",
    "                queue.append(node.con)\n",
    "        return False\n",
    "    \n",
    "    def _concat_op(self, i1, i2):\n",
    "        return int(f'{i1}{i2}')\n",
    "                \n",
    "valid=0\n",
    "for result, coefficients in equations.items():\n",
    "    root = Node(coefficients[0])\n",
    "    root.build(coefficients[1:])\n",
    "    valid += root.solution_exists(result) * result\n",
    "    \n",
    "\n",
    "\n",
    "valid"
   ]
  }
 ],
 "metadata": {
  "kernelspec": {
   "display_name": "adm-AmuXBqwp-py3.12",
   "language": "python",
   "name": "adm-amuxbqwp-py3.12"
  },
  "language_info": {
   "codemirror_mode": {
    "name": "ipython",
    "version": 3
   },
   "file_extension": ".py",
   "mimetype": "text/x-python",
   "name": "python",
   "nbconvert_exporter": "python",
   "pygments_lexer": "ipython3",
   "version": "3.12.5"
  }
 },
 "nbformat": 4,
 "nbformat_minor": 2
}
