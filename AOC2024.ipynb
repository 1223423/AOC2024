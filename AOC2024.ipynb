{
 "cells": [
  {
   "cell_type": "markdown",
   "metadata": {},
   "source": [
    "Day 1: Part I"
   ]
  },
  {
   "cell_type": "code",
   "execution_count": 2,
   "metadata": {},
   "outputs": [
    {
     "data": {
      "text/plain": [
       "1651298"
      ]
     },
     "execution_count": 2,
     "metadata": {},
     "output_type": "execute_result"
    }
   ],
   "source": [
    "l1 = []\n",
    "l2 = []\n",
    "\n",
    "with open('inputs/d1.txt') as f:\n",
    "    for l in f.readlines():\n",
    "        e1, e2 = l.split('   ')\n",
    "        l1.append(int(e1))\n",
    "        l2.append(int(e2))\n",
    "\n",
    "l1 = sorted(l1)\n",
    "l2 = sorted(l2)\n",
    "\n",
    "total = 0\n",
    "for idx in range(len(l1)):\n",
    "    total += abs(l1[idx] - l2[idx])\n",
    "total"
   ]
  },
  {
   "cell_type": "markdown",
   "metadata": {},
   "source": [
    "Day 1: Part II"
   ]
  },
  {
   "cell_type": "code",
   "execution_count": 3,
   "metadata": {},
   "outputs": [
    {
     "data": {
      "text/plain": [
       "21306195"
      ]
     },
     "execution_count": 3,
     "metadata": {},
     "output_type": "execute_result"
    }
   ],
   "source": [
    "l1 = []\n",
    "l2 = []\n",
    "\n",
    "with open('inputs/d1.txt') as f:\n",
    "    for l in f.readlines():\n",
    "        e1, e2 = l.split('   ')\n",
    "        l1.append(int(e1))\n",
    "        l2.append(int(e2))\n",
    "\n",
    "# First pass: get dict of each e in l1 and their freq in l2\n",
    "fm = {}\n",
    "for e in l1:\n",
    "    fm[e] = l2.count(e)\n",
    "\n",
    "# Second pass: Go through e in l1 and append similarity = n*freq to total\n",
    "total = 0\n",
    "for e in l1:\n",
    "    total += fm[e]*e\n",
    "\n",
    "total\n",
    "    "
   ]
  },
  {
   "cell_type": "markdown",
   "metadata": {},
   "source": [
    "Day 2: Part I"
   ]
  },
  {
   "cell_type": "code",
   "execution_count": 4,
   "metadata": {},
   "outputs": [
    {
     "data": {
      "text/plain": [
       "639"
      ]
     },
     "execution_count": 4,
     "metadata": {},
     "output_type": "execute_result"
    }
   ],
   "source": [
    "safe_reports = 0\n",
    "with open('inputs/d2.txt') as f:\n",
    "    for l in f.readlines():\n",
    "        l = [int(i) for i in l.split(' ')]\n",
    "        pairs = list(zip(l, l[1:]))\n",
    "        diffs = [x[0]-x[1] for x in pairs]\n",
    "        #diffs\n",
    "        # 1. Strict inc or dec\n",
    "        all_neg = all([d < 0 for d in diffs])\n",
    "        all_pos = all([d > 0 for d in diffs])\n",
    "        is_strict = all_neg or all_pos\n",
    "        # 2. Adjacent 1<= abs(diff) <= 3\n",
    "        is_inrange = all([abs(d) <= 3 and abs(d) >= 1 for d in diffs])\n",
    "        if is_strict and is_inrange:\n",
    "            safe_reports+=1\n",
    "\n",
    "safe_reports"
   ]
  },
  {
   "cell_type": "markdown",
   "metadata": {},
   "source": [
    "Day 2: Part II"
   ]
  },
  {
   "cell_type": "code",
   "execution_count": 5,
   "metadata": {},
   "outputs": [
    {
     "data": {
      "text/plain": [
       "674"
      ]
     },
     "execution_count": 5,
     "metadata": {},
     "output_type": "execute_result"
    }
   ],
   "source": [
    "safe_reports = 0\n",
    "with open('inputs/d2.txt') as f:\n",
    "    for z in f.readlines():\n",
    "        z = [int(i) for i in z.split(' ')]\n",
    "        versions = [z[:i] + z[i+1:] for i in range(len(z))] + [z]\n",
    "        for l in versions:\n",
    "            pairs = list(zip(l, l[1:]))\n",
    "            diffs = [x[0]-x[1] for x in pairs]\n",
    "            #diffs\n",
    "            # 1. Strict inc or dec\n",
    "            all_neg = all([d < 0 for d in diffs])\n",
    "            all_pos = all([d > 0 for d in diffs])\n",
    "            is_strict = all_neg or all_pos\n",
    "            # 2. Adjacent 1<= abs(diff) <= 3\n",
    "            is_inrange = all([abs(d) <= 3 and abs(d) >= 1 for d in diffs])\n",
    "            if is_strict and is_inrange:\n",
    "                safe_reports+=1\n",
    "                break\n",
    "\n",
    "safe_reports"
   ]
  },
  {
   "cell_type": "markdown",
   "metadata": {},
   "source": [
    "Day 3: Part I"
   ]
  },
  {
   "cell_type": "code",
   "execution_count": 6,
   "metadata": {},
   "outputs": [
    {
     "data": {
      "text/plain": [
       "174103751"
      ]
     },
     "execution_count": 6,
     "metadata": {},
     "output_type": "execute_result"
    }
   ],
   "source": [
    "import re\n",
    "\n",
    "with open('inputs/d3.txt') as f:\n",
    "    total = 0\n",
    "    for l in f.readlines():\n",
    "        pairs = re.findall(r\"mul\\((\\d*),(\\d*)\\)\", l)\n",
    "        muls = [int(x[0])*int(x[1]) for x in pairs]\n",
    "        total += sum(muls)\n",
    "\n",
    "total"
   ]
  },
  {
   "cell_type": "markdown",
   "metadata": {},
   "source": [
    "Day 3: Part II"
   ]
  },
  {
   "cell_type": "code",
   "execution_count": 8,
   "metadata": {},
   "outputs": [
    {
     "data": {
      "text/plain": [
       "100411201"
      ]
     },
     "execution_count": 8,
     "metadata": {},
     "output_type": "execute_result"
    }
   ],
   "source": [
    "import re\n",
    "\n",
    "with open('inputs/d3.txt') as f:\n",
    "    total = 0\n",
    "    do = True\n",
    "    for l in f.readlines():\n",
    "        matches = re.findall(r\"(do\\(\\)|don't\\(\\)|mul\\(\\d+,\\d+\\))\", l)\n",
    "        for m in matches:\n",
    "            if \"mul(\" in m and do:\n",
    "                n1, n2 = re.findall(r\"mul\\((\\d*),(\\d*)\\)\",m)[0]\n",
    "                total += int(n1)*int(n2)\n",
    "            if m == \"don't()\":\n",
    "                do = False\n",
    "            if m == \"do()\":\n",
    "                do = True\n",
    "\n",
    "total"
   ]
  },
  {
   "cell_type": "markdown",
   "metadata": {},
   "source": [
    "Day 4: Part I"
   ]
  },
  {
   "cell_type": "code",
   "execution_count": 9,
   "metadata": {},
   "outputs": [
    {
     "name": "stdout",
     "output_type": "stream",
     "text": [
      "2483\n"
     ]
    }
   ],
   "source": [
    "from itertools import product\n",
    "\n",
    "grid = []\n",
    "with open('inputs/d4.txt') as f:\n",
    "    for line in f:\n",
    "        row = list(line.strip())\n",
    "        grid.append(row)\n",
    "\n",
    "dirs = list(product([-1, 0, 1], [-1, 0, 1]))\n",
    "dirs.remove((0, 0))\n",
    "\n",
    "target = \"XMAS\"\n",
    "word_len = len(target)\n",
    "count = 0\n",
    "row_len = len(grid[0])\n",
    "col_len = len(grid)\n",
    "\n",
    "for y in range(col_len):\n",
    "    for x in range(row_len):\n",
    "        if grid[y][x] == 'X':\n",
    "            for dy, dx in dirs:\n",
    "                end_y = y + (word_len - 1) * dy\n",
    "                end_x = x + (word_len - 1) * dx\n",
    "\n",
    "                # Bound check\n",
    "                if 0 <= end_y < col_len and 0 <= end_x < row_len:\n",
    "                    match = True\n",
    "                    for k in range(1, word_len):\n",
    "                        c = target[k]\n",
    "                        if grid[y + k * dy][x + k * dx] != c:\n",
    "                            match = False\n",
    "                            break\n",
    "                    if match:\n",
    "                        #print(f'Found XMAS at [{y},{x}] in direction: ({dy}, {dx})')\n",
    "                        count += 1\n",
    "\n",
    "print(count)\n"
   ]
  },
  {
   "cell_type": "markdown",
   "metadata": {},
   "source": [
    "Day 4: Part II"
   ]
  },
  {
   "cell_type": "code",
   "execution_count": 10,
   "metadata": {},
   "outputs": [
    {
     "data": {
      "text/plain": [
       "1925"
      ]
     },
     "execution_count": 10,
     "metadata": {},
     "output_type": "execute_result"
    }
   ],
   "source": [
    "grid = []\n",
    "with open('inputs/d4.txt') as f:\n",
    "    for line in f:\n",
    "        row = list(line.strip())\n",
    "        grid.append(row)\n",
    "\n",
    "row_len = len(grid[0])\n",
    "col_len = len(grid)\n",
    "cross = 0\n",
    "for y in range(1,col_len-1):\n",
    "    for x in range(1,row_len-1):\n",
    "        if grid[y][x] == 'A':\n",
    "            diag1 = (grid[y+1][x+1] == 'S' and grid[y-1][x-1] == 'M') or (grid[y+1][x+1] == 'M' and grid[y-1][x-1] == 'S')\n",
    "            diag2 = (grid[y+1][x-1] == 'S' and grid[y-1][x+1] == 'M') or (grid[y+1][x-1] == 'M' and grid[y-1][x+1] == 'S')\n",
    "            if diag1 and diag2:\n",
    "                cross+=1\n",
    "            \n",
    "cross"
   ]
  },
  {
   "cell_type": "markdown",
   "metadata": {},
   "source": [
    "Day 5: Part I"
   ]
  },
  {
   "cell_type": "code",
   "execution_count": 11,
   "metadata": {},
   "outputs": [
    {
     "data": {
      "text/plain": [
       "4689"
      ]
     },
     "execution_count": 11,
     "metadata": {},
     "output_type": "execute_result"
    }
   ],
   "source": [
    "update_rules = []\n",
    "page_numbers = []\n",
    "with open('inputs/d5.txt') as f:\n",
    "    for l in f.readlines():\n",
    "        #print(l)\n",
    "        if '|' in l:\n",
    "            rule = l.strip().split('|')\n",
    "            update_rules.append((rule[0],rule[1]))\n",
    "        if ',' in l:\n",
    "            pages = l.strip().split(',')\n",
    "            page_numbers.append(pages)\n",
    "\n",
    "total = 0\n",
    "for page_order in page_numbers:\n",
    "    correct = True\n",
    "    for rule in update_rules:\n",
    "        if rule[0] in page_order and rule[1] in page_order:\n",
    "            if not page_order.index(rule[0]) < page_order.index(rule[1]):\n",
    "                correct = False\n",
    "                break\n",
    "    if correct:\n",
    "        total+=int(page_order[int(len(page_order)//2)])\n",
    "total"
   ]
  },
  {
   "cell_type": "markdown",
   "metadata": {},
   "source": [
    "Day 5: Part II"
   ]
  },
  {
   "cell_type": "code",
   "execution_count": 12,
   "metadata": {},
   "outputs": [
    {
     "data": {
      "text/plain": [
       "6336"
      ]
     },
     "execution_count": 12,
     "metadata": {},
     "output_type": "execute_result"
    }
   ],
   "source": [
    "update_rules = []\n",
    "page_numbers = []\n",
    "\n",
    "with open('inputs/d5.txt') as f:\n",
    "    for l in f.readlines():\n",
    "        if '|' in l:\n",
    "            rule = l.strip().split('|')\n",
    "            update_rules.append((rule[0], rule[1]))\n",
    "        if ',' in l:\n",
    "            pages = l.strip().split(',')\n",
    "            page_numbers.append(pages)\n",
    "\n",
    "total = 0\n",
    "\n",
    "for page_order in page_numbers:\n",
    "    correct = True\n",
    "    for rule in update_rules:\n",
    "        if rule[0] in page_order and rule[1] in page_order:\n",
    "            if not page_order.index(rule[0]) < page_order.index(rule[1]):\n",
    "                faults = True\n",
    "                while faults:\n",
    "                    faults = False\n",
    "                    for rule in update_rules:\n",
    "                        if rule[0] in page_order and rule[1] in page_order:\n",
    "                            idx_low = page_order.index(rule[0])\n",
    "                            idx_high = page_order.index(rule[1])\n",
    "                            if idx_low > idx_high:\n",
    "                                page_order.insert(idx_low, page_order.pop(idx_high))\n",
    "                                faults = True\n",
    "\n",
    "                total += int(page_order[len(page_order) // 2])\n",
    "\n",
    "total\n"
   ]
  },
  {
   "cell_type": "markdown",
   "metadata": {},
   "source": [
    "Day 6: Part I"
   ]
  },
  {
   "cell_type": "code",
   "execution_count": 14,
   "metadata": {},
   "outputs": [
    {
     "name": "stdout",
     "output_type": "stream",
     "text": [
      "4939\n"
     ]
    }
   ],
   "source": [
    "grid = {}\n",
    "pos_guard = None\n",
    "with open('inputs/d6.txt') as f:\n",
    "    for rdx, l in enumerate(f.readlines()):\n",
    "        for cdx, c in enumerate(list(l)):\n",
    "            grid[rdx+cdx*1j] = c\n",
    "            if c == '^':\n",
    "                pos_guard = rdx+cdx*1j\n",
    "\n",
    "def walk(grid):\n",
    "\n",
    "    dir = -1\n",
    "    pos = pos_guard + dir\n",
    "    explored = set()\n",
    "    while pos in grid and (pos, dir) not in explored:\n",
    "        explored.add((pos, dir))\n",
    "        if grid.get(pos+dir) == '#':\n",
    "            dir *= -1j\n",
    "        else:\n",
    "            pos += dir\n",
    "    return {p for p,_ in explored}, (pos, dir) in explored\n",
    "\n",
    "path, explored = walk(grid)\n",
    "print(len(path))\n"
   ]
  },
  {
   "cell_type": "markdown",
   "metadata": {},
   "source": [
    "Day 6: Part II"
   ]
  },
  {
   "cell_type": "code",
   "execution_count": 15,
   "metadata": {},
   "outputs": [
    {
     "name": "stdout",
     "output_type": "stream",
     "text": [
      "1434\n"
     ]
    }
   ],
   "source": [
    "print(sum(walk(grid | {o : '#'})[1] for o in path))"
   ]
  },
  {
   "cell_type": "markdown",
   "metadata": {},
   "source": [
    "Day 7: Part I"
   ]
  },
  {
   "cell_type": "code",
   "execution_count": 17,
   "metadata": {},
   "outputs": [
    {
     "data": {
      "text/plain": [
       "14711933466277"
      ]
     },
     "execution_count": 17,
     "metadata": {},
     "output_type": "execute_result"
    }
   ],
   "source": [
    "from collections import deque\n",
    "\n",
    "equations = {}\n",
    "with open('inputs/d7.txt') as f:\n",
    "    for l in f.readlines():\n",
    "        data = l.strip().split(':')\n",
    "        equations[int(data[0])] = list(map(int, data[1].strip().split(' ')))\n",
    "\n",
    "class Node:\n",
    "    def __init__(self, value):\n",
    "        self.value = value\n",
    "        self.add = None\n",
    "        self.mul = None\n",
    "\n",
    "    def build(self, coeffs):\n",
    "        if len(coeffs):\n",
    "            self.add = Node(self.value + coeffs[0])\n",
    "            self.mul = Node(self.value * coeffs[0])\n",
    "            self.add.build(coeffs[1:])\n",
    "            self.mul.build(coeffs[1:])\n",
    "\n",
    "    def solution_exists(self, target):\n",
    "        queue = deque()\n",
    "        queue.append(self)\n",
    "        while queue:\n",
    "            node = queue.popleft()\n",
    "            if node.add is None:\n",
    "                    if node.value == target:\n",
    "                        return True\n",
    "            else:\n",
    "                queue.append(node.add)\n",
    "                queue.append(node.mul)\n",
    "        return False\n",
    "    \n",
    "valid=0\n",
    "for result, coefficients in equations.items():\n",
    "    root = Node(coefficients[0])\n",
    "    root.build(coefficients[1:])\n",
    "    valid += root.solution_exists(result) * result\n",
    "    \n",
    "\n",
    "\n",
    "valid"
   ]
  },
  {
   "cell_type": "markdown",
   "metadata": {},
   "source": [
    "Day 7: Part II"
   ]
  },
  {
   "cell_type": "code",
   "execution_count": null,
   "metadata": {},
   "outputs": [
    {
     "data": {
      "text/plain": [
       "286580387663654"
      ]
     },
     "execution_count": 18,
     "metadata": {},
     "output_type": "execute_result"
    }
   ],
   "source": [
    "from collections import deque\n",
    "\n",
    "equations = {}\n",
    "with open('inputs/d7.txt') as f:\n",
    "    for l in f.readlines():\n",
    "        data = l.strip().split(':')\n",
    "        equations[int(data[0])] = list(map(int, data[1].strip().split(' ')))\n",
    "\n",
    "class Node:\n",
    "    def __init__(self, value):\n",
    "        self.value = value\n",
    "        self.add = None\n",
    "        self.mul = None\n",
    "        self.con = None\n",
    "\n",
    "    def build(self, coeffs):\n",
    "        if len(coeffs):\n",
    "            self.add = Node(self.value + coeffs[0])\n",
    "            self.mul = Node(self.value * coeffs[0])\n",
    "            self.con = Node(self._concat_op(self.value, coeffs[0]))\n",
    "            self.add.build(coeffs[1:])\n",
    "            self.mul.build(coeffs[1:])\n",
    "            self.con.build(coeffs[1:])\n",
    "\n",
    "    def solution_exists(self, target):\n",
    "        queue = deque()\n",
    "        queue.append(self)\n",
    "        while queue:\n",
    "            node = queue.popleft()\n",
    "            if node.add is None:\n",
    "                    if node.value == target:\n",
    "                        return True\n",
    "            else:\n",
    "                queue.append(node.add)\n",
    "                queue.append(node.mul)\n",
    "                queue.append(node.con)\n",
    "        return False\n",
    "    \n",
    "    def _concat_op(self, i1, i2):\n",
    "        return int(f'{i1}{i2}')\n",
    "                \n",
    "valid=0\n",
    "for result, coefficients in equations.items():\n",
    "    root = Node(coefficients[0])\n",
    "    root.build(coefficients[1:])\n",
    "    valid += root.solution_exists(result) * result\n",
    "    \n",
    "valid"
   ]
  },
  {
   "cell_type": "markdown",
   "metadata": {},
   "source": [
    "Faster DP version:"
   ]
  },
  {
   "cell_type": "code",
   "execution_count": 20,
   "metadata": {},
   "outputs": [
    {
     "data": {
      "text/plain": [
       "286580387663654"
      ]
     },
     "execution_count": 20,
     "metadata": {},
     "output_type": "execute_result"
    }
   ],
   "source": [
    "import operator\n",
    "\n",
    "ops = {\n",
    "    'add': operator.add,\n",
    "    'mul': operator.mul,\n",
    "    'con': lambda x, y: int(f'{x}{y}')\n",
    "}\n",
    "\n",
    "equations = {}\n",
    "with open('inputs/d7.txt') as f:\n",
    "    for l in f.readlines():\n",
    "        data = l.strip().split(':')\n",
    "        equations[int(data[0])] = list(map(int, data[1].strip().split()))\n",
    "\n",
    "\n",
    "\n",
    "valid = 0\n",
    "for result, coefficients in equations.items():\n",
    "    initial_value = coefficients[0]\n",
    "    possible_values = set([initial_value])\n",
    "    for coeff in coefficients[1:]:\n",
    "        next_values = set()\n",
    "        for val in possible_values:\n",
    "            for f in ops.values():\n",
    "                    next_values.add(f(val, coeff))\n",
    "        possible_values = next_values\n",
    "        if not possible_values:\n",
    "            break\n",
    "    if result in possible_values:\n",
    "        valid += result\n",
    "\n",
    "valid"
   ]
  },
  {
   "cell_type": "markdown",
   "metadata": {},
   "source": [
    "Day 8: Part I"
   ]
  },
  {
   "cell_type": "code",
   "execution_count": 21,
   "metadata": {},
   "outputs": [
    {
     "data": {
      "text/plain": [
       "394"
      ]
     },
     "execution_count": 21,
     "metadata": {},
     "output_type": "execute_result"
    }
   ],
   "source": [
    "from collections import defaultdict\n",
    "from itertools import combinations\n",
    "import math\n",
    "\n",
    "gridmap = defaultdict(list)\n",
    "nrow, ncol = 0, 0\n",
    "with open('inputs/d8.txt') as f:\n",
    "    for rdx, row in enumerate(f.readlines()):\n",
    "        for cdx, val in enumerate(list(row.strip())):\n",
    "            if val!= '.':\n",
    "                gridmap[val].append(rdx+cdx*1j)\n",
    "        nrow+=1\n",
    "        ncol = len(row.strip())\n",
    "\n",
    "def bounded(p, row_bound, col_bound):\n",
    "    return (0 <= p.real < row_bound) and (0 <= p.imag < col_bound)\n",
    "\n",
    "antinodes = set()\n",
    "for type, points in gridmap.items():\n",
    "    pairs = combinations(points, 2)\n",
    "    for p1, p2 in list(pairs):\n",
    "        dir1, dir2  = p1-p2, p2-p1\n",
    "        a1, a2 = p1 + dir1, p2 + dir2\n",
    "        if bounded(a1, nrow, ncol):\n",
    "            antinodes.add(a1)\n",
    "        if bounded(a2, nrow, ncol):\n",
    "            antinodes.add(a2)\n",
    "\n",
    "len(antinodes)      "
   ]
  },
  {
   "cell_type": "markdown",
   "metadata": {},
   "source": [
    "Day 8: Part II"
   ]
  },
  {
   "cell_type": "code",
   "execution_count": 22,
   "metadata": {},
   "outputs": [
    {
     "name": "stdout",
     "output_type": "stream",
     "text": [
      "1277\n"
     ]
    }
   ],
   "source": [
    "from collections import defaultdict\n",
    "from itertools import combinations\n",
    "import math\n",
    "\n",
    "gridmap = defaultdict(list)\n",
    "with open('inputs/d8.txt') as f:\n",
    "    lines = f.read().splitlines()\n",
    "nrow = len(lines)\n",
    "ncol = len(lines[0])\n",
    "for rdx, row in enumerate(lines):\n",
    "    for cdx, val in enumerate(row):\n",
    "        if val != '.':\n",
    "            gridmap[val].append(rdx + cdx*1j)\n",
    "\n",
    "def bounded(p, row_bound, col_bound):\n",
    "    return 0 <= p.real < row_bound and 0 <= p.imag < col_bound\n",
    "\n",
    "antinodes = set()\n",
    "max_dim = max(nrow, ncol)\n",
    "\n",
    "for points in gridmap.values():\n",
    "    for p1, p2 in combinations(points, 2):\n",
    "        dr = p2.real - p1.real\n",
    "        dc = p2.imag - p1.imag\n",
    "        step = dr + dc*1j\n",
    "\n",
    "        dirs = [(p1, step), (p1, -step), (p2, step),(p2, -step)]\n",
    "        \n",
    "        for origin, dir in dirs:\n",
    "            for scale in range(1, max_dim):\n",
    "                candidate = origin + dir * scale\n",
    "                if not bounded(candidate, nrow, ncol):\n",
    "                    break\n",
    "                antinodes.add(candidate)\n",
    "\n",
    "print(len(antinodes))\n"
   ]
  },
  {
   "cell_type": "markdown",
   "metadata": {},
   "source": [
    "Day 9: Part I"
   ]
  },
  {
   "cell_type": "code",
   "execution_count": 23,
   "metadata": {},
   "outputs": [
    {
     "data": {
      "text/plain": [
       "6378826667552"
      ]
     },
     "execution_count": 23,
     "metadata": {},
     "output_type": "execute_result"
    }
   ],
   "source": [
    "with open('inputs/d9.txt') as f:\n",
    "    disk_map = f.readline().strip()\n",
    "\n",
    "def expand_disk(disk_map):\n",
    "    out = []\n",
    "    n_segments = len(disk_map)\n",
    "    fid = 0\n",
    "    for cur in range(0, n_segments, 2):\n",
    "        file_size = int(disk_map[cur])\n",
    "        if (cur + 1) < n_segments:\n",
    "            empty_size = int(disk_map[cur + 1])\n",
    "        else:\n",
    "            empty_size = 0\n",
    "        for block in range(file_size):\n",
    "            out.append(fid)\n",
    "        for block in range(empty_size):\n",
    "            out.append('.')\n",
    "        fid += 1\n",
    "    return out\n",
    "\n",
    "def defragment(disk_exp):\n",
    "    left = 0\n",
    "    right = len(disk_exp) - 1\n",
    "\n",
    "    while left < right:\n",
    "        while left < right and disk_exp[left] != '.':\n",
    "            left += 1\n",
    "        while right > left and disk_exp[right] == '.':\n",
    "            right -= 1\n",
    "        if left < right:\n",
    "            disk_exp[left], disk_exp[right] = disk_exp[right], '.'\n",
    "            left += 1\n",
    "            right -= 1\n",
    "    return disk_exp\n",
    "\n",
    "def checksum(disk_exp):\n",
    "    return sum(index * fid for index, fid in enumerate(disk_exp) if fid != '.')\n",
    "\n",
    "disk_expanded = expand_disk(disk_map)\n",
    "disk_defrag = defragment(disk_expanded)\n",
    "checksum(disk_defrag)\n"
   ]
  },
  {
   "cell_type": "markdown",
   "metadata": {},
   "source": [
    "Day 9: Part II"
   ]
  },
  {
   "cell_type": "code",
   "execution_count": 24,
   "metadata": {},
   "outputs": [
    {
     "data": {
      "text/plain": [
       "6413328569890"
      ]
     },
     "execution_count": 24,
     "metadata": {},
     "output_type": "execute_result"
    }
   ],
   "source": [
    "def get_files(expanded_disk):\n",
    "    files = []\n",
    "    current_fid = None\n",
    "    start_idx = None\n",
    "    size = 0\n",
    "    \n",
    "    for idx, block in enumerate(expanded_disk):\n",
    "        if block != '.':\n",
    "            if block != current_fid:\n",
    "                if current_fid is not None:\n",
    "                    files.append({'fid': current_fid, 'start': start_idx, 'size': size})\n",
    "                current_fid = block\n",
    "                start_idx = idx\n",
    "                size = 1\n",
    "            else:\n",
    "                size += 1\n",
    "        else:\n",
    "            if current_fid is not None:\n",
    "                files.append({'fid': current_fid, 'start': start_idx, 'size': size})\n",
    "                current_fid = None\n",
    "                start_idx = None\n",
    "                size = 0\n",
    "    \n",
    "    if current_fid is not None:\n",
    "        files.append({'fid': current_fid, 'start': start_idx, 'size': size})\n",
    "    \n",
    "    files_sorted = sorted(files, key=lambda x: -x['fid'])\n",
    "    return files_sorted\n",
    "\n",
    "def defragment(expanded_disk, files_sorted):\n",
    "    for file in files_sorted:\n",
    "        fid = file['fid']\n",
    "        size = file['size']\n",
    "        original_start = file['start']\n",
    "        leftmost_pos = find_leftmost_fit(expanded_disk, size)\n",
    "        \n",
    "        if leftmost_pos is not None and leftmost_pos < original_start:\n",
    "            #print(f\"Moving File ID {fid} from {original_start} to {leftmost_pos}\")\n",
    "            for i in range(size):\n",
    "                expanded_disk[leftmost_pos + i] = fid\n",
    "                expanded_disk[original_start + i] = '.'\n",
    "            file['start'] = leftmost_pos\n",
    "    return expanded_disk\n",
    "\n",
    "def find_leftmost_fit(expanded_disk, size):\n",
    "    current_free = 0\n",
    "    start_idx = 0\n",
    "    for idx, block in enumerate(expanded_disk):\n",
    "        if block == '.':\n",
    "            if current_free == 0:\n",
    "                start_idx = idx\n",
    "            current_free += 1\n",
    "            if current_free >= size:\n",
    "                return start_idx\n",
    "        else:\n",
    "            current_free = 0\n",
    "    return None\n",
    "\n",
    "def checksum(expanded_disk):\n",
    "    checksum = 0\n",
    "    for idx, block in enumerate(expanded_disk):\n",
    "        if block != '.':\n",
    "            checksum += idx * block\n",
    "    return checksum\n",
    "\n",
    "disk_expanded = expand_disk(disk_map)\n",
    "files_sorted = get_files(disk_expanded)\n",
    "disk_defrag = defragment(disk_expanded, files_sorted)\n",
    "checksum(disk_defrag)"
   ]
  },
  {
   "cell_type": "markdown",
   "metadata": {},
   "source": [
    "Day 10: Part I & II"
   ]
  },
  {
   "cell_type": "code",
   "execution_count": 25,
   "metadata": {},
   "outputs": [
    {
     "data": {
      "text/plain": [
       "(461, 875)"
      ]
     },
     "execution_count": 25,
     "metadata": {},
     "output_type": "execute_result"
    }
   ],
   "source": [
    "from collections import deque\n",
    "\n",
    "gridmap = {}\n",
    "nrow, ncol = None, None\n",
    "trailheads = []\n",
    "\n",
    "with open('inputs/d10.txt') as f:\n",
    "    for row,l in enumerate(f.readlines()):\n",
    "        line = list(l.strip())\n",
    "        ncol = len(line)\n",
    "        for col, tile in enumerate(line):\n",
    "            gridmap[row + col*1j] = int(tile)\n",
    "            if tile == '0':\n",
    "                trailheads.append(row + col*1j)\n",
    "        nrow = row+1\n",
    "\n",
    "class Node:\n",
    "\n",
    "    dirmap = {\n",
    "        0-1j : 'left',\n",
    "        0+1j : 'right',\n",
    "        1 : 'down',\n",
    "        -1 : 'up'\n",
    "    }\n",
    "\n",
    "    def __init__(self, pos):\n",
    "        self.height = gridmap[pos]\n",
    "        self.pos = pos\n",
    "        self.up = None\n",
    "        self.down = None\n",
    "        self.right = None\n",
    "        self.left = None\n",
    "\n",
    "    def build(self):\n",
    "        search = deque()\n",
    "        search.append(self)\n",
    "        reachable = set()\n",
    "        ranking = 0\n",
    "        while search:\n",
    "            current_node = search.popleft()\n",
    "            trail = find_candidates(current_node.pos, gridmap)\n",
    "            for trail_pos in trail:\n",
    "                delta = trail_pos-current_node.pos\n",
    "                new_node = Node(trail_pos)\n",
    "                setattr(current_node, self.dirmap[delta], new_node)\n",
    "                if new_node.height == 9:\n",
    "                    reachable.add(new_node.pos)\n",
    "                    ranking += 1\n",
    "                else:\n",
    "                    search.append(new_node)\n",
    "        return len(reachable), ranking\n",
    "    \n",
    "def in_bounds(candidate, nrow, ncol):\n",
    "    return 0 <= candidate.real < nrow and 0 <= candidate.imag < ncol\n",
    "\n",
    "def find_candidates(pos, gridmap):\n",
    "    candidates = [pos-1, pos+1, pos-1j, pos+1j]\n",
    "    candidates = [c for c in candidates if in_bounds(c, nrow, ncol)]\n",
    "    candidates = [c for c in candidates if gridmap[c]==gridmap[pos]+1]\n",
    "    return candidates\n",
    "\n",
    "def explore_trailheads(trailheads):\n",
    "    score_total = 0\n",
    "    ranking_total = 0\n",
    "    for trailhead in trailheads:\n",
    "        root = Node(trailhead)\n",
    "        score, ranking = root.build()\n",
    "        score_total += score\n",
    "        ranking_total += ranking\n",
    "    return score_total, ranking_total\n",
    "\n",
    "explore_trailheads(trailheads)"
   ]
  },
  {
   "cell_type": "markdown",
   "metadata": {},
   "source": [
    "Day 11: Part I"
   ]
  },
  {
   "cell_type": "code",
   "execution_count": 26,
   "metadata": {},
   "outputs": [
    {
     "data": {
      "text/plain": [
       "209412"
      ]
     },
     "execution_count": 26,
     "metadata": {},
     "output_type": "execute_result"
    }
   ],
   "source": [
    "import math\n",
    "\n",
    "def _n_digits(num): return math.floor(math.log10(num)+1)\n",
    "\n",
    "def _split_digits(num):\n",
    "    str_num = str(num)\n",
    "    len_num = len(str_num)\n",
    "    bound = len_num//2\n",
    "    return (int(str_num[0:bound]), int(str_num[bound:]))\n",
    "\n",
    "with open('inputs/d11.txt') as f:\n",
    "    stones = list(map(int, f.readline().strip().split(' ')))\n",
    "\n",
    "def evolve(state, explored, steps = 1):\n",
    "\n",
    "    if (state, steps) in explored:\n",
    "         return explored[(state, steps)]\n",
    "    if steps == 0:\n",
    "         return 1\n",
    "    if state == 0:\n",
    "        result = evolve(1, explored, steps-1)\n",
    "    elif _n_digits(state) % 2 == 0:\n",
    "        n1,n2 = _split_digits(state)\n",
    "        result = evolve(n1, explored, steps-1) + evolve(n2, explored, steps-1)\n",
    "    else:\n",
    "        result = evolve(state*2024, explored, steps-1)\n",
    "\n",
    "    explored[(state, steps)] = result\n",
    "    return result\n",
    "\n",
    "explored = {}\n",
    "sum([evolve(stone, explored, 25) for stone in stones])"
   ]
  },
  {
   "cell_type": "markdown",
   "metadata": {},
   "source": [
    "Day 11: Part II"
   ]
  },
  {
   "cell_type": "code",
   "execution_count": 27,
   "metadata": {},
   "outputs": [
    {
     "data": {
      "text/plain": [
       "248967696501656"
      ]
     },
     "execution_count": 27,
     "metadata": {},
     "output_type": "execute_result"
    }
   ],
   "source": [
    "sum([evolve(stone, explored, 75) for stone in stones])"
   ]
  },
  {
   "cell_type": "markdown",
   "metadata": {},
   "source": [
    "Day 12: Part I"
   ]
  },
  {
   "cell_type": "code",
   "execution_count": 28,
   "metadata": {},
   "outputs": [
    {
     "data": {
      "text/plain": [
       "1387004"
      ]
     },
     "execution_count": 28,
     "metadata": {},
     "output_type": "execute_result"
    }
   ],
   "source": [
    "grid = {}\n",
    "nrow, ncol = None, None\n",
    "with open('inputs/d12.txt') as f:\n",
    "    for r, row in enumerate(f.readlines()):\n",
    "        for c, tile in enumerate(list(row.strip())):\n",
    "            grid[(r,c)] = tile\n",
    "        nrow = r+1\n",
    "        ncol = len(row)\n",
    "\n",
    "def in_bounds(pos, nrow, ncol):\n",
    "    return 0 <= pos[0] < nrow and 0 <= pos[1] < ncol\n",
    "\n",
    "def yield_neighbors(pos, explored, region_plant):\n",
    "    nswe = [(-1,0),(1,0),(0,-1),(0,1)]\n",
    "    candidates = [(pos[0]+dir[0], pos[1]+dir[1]) for dir in nswe]\n",
    "    bounded = [pos for pos in candidates if in_bounds(pos, nrow, ncol)]\n",
    "    return [pos for pos in bounded if grid[pos] == region_plant]\n",
    "\n",
    "\n",
    "explored_global = set()\n",
    "price = 0\n",
    "for tile in grid.keys():\n",
    "    if tile not in explored_global:\n",
    "        search = set()\n",
    "        explored = set()\n",
    "        search.add(tile)\n",
    "        region_plant = grid[tile]\n",
    "        perimeter = 0\n",
    "        while search:\n",
    "            pos = search.pop()\n",
    "            explored.add(pos)\n",
    "            explored_global.add(pos)\n",
    "            neighbors = yield_neighbors(pos, explored, region_plant)\n",
    "            for n in neighbors:\n",
    "                if n not in explored:\n",
    "                    search.add(n)\n",
    "            perimeter += 4 - len(neighbors)\n",
    "        price += len(explored) * perimeter\n",
    "\n",
    "\n",
    "price"
   ]
  },
  {
   "cell_type": "markdown",
   "metadata": {},
   "source": [
    "Day 12: Part II"
   ]
  },
  {
   "cell_type": "code",
   "execution_count": 30,
   "metadata": {},
   "outputs": [
    {
     "data": {
      "text/plain": [
       "844198"
      ]
     },
     "execution_count": 30,
     "metadata": {},
     "output_type": "execute_result"
    }
   ],
   "source": [
    "grid = {}\n",
    "nrow, ncol = None, None\n",
    "with open('inputs/d12.txt') as f:\n",
    "    for r, row in enumerate(f.readlines()):\n",
    "        for c, tile in enumerate(list(row.strip())):\n",
    "            grid[(r,c)] = tile\n",
    "        nrow = r+1\n",
    "        ncol = len(row)\n",
    "\n",
    "def in_bounds(pos, nrow, ncol):\n",
    "    return 0 <= pos[0] < nrow and 0 <= pos[1] < ncol\n",
    "\n",
    "def yield_neighbors(pos, explored, region_plant):\n",
    "    nswe = [(-1,0),(1,0),(0,-1),(0,1)]\n",
    "    candidates = [(pos[0]+dir[0], pos[1]+dir[1]) for dir in nswe]\n",
    "    bounded = [pos for pos in candidates if in_bounds(pos, nrow, ncol)]\n",
    "    return [pos for pos in bounded if grid[pos] == region_plant]\n",
    "\n",
    "def count_sides(path):\n",
    "    sides = 0\n",
    "    for row, col in path:\n",
    "        corners = [\n",
    "            ((row + 1, col), (row, col - 1), (row + 1, col - 1)),\n",
    "            ((row, col + 1), (row + 1, col), (row + 1, col + 1)),\n",
    "            ((row - 1, col), (row, col + 1), (row - 1, col + 1)),\n",
    "            ((row, col - 1), (row - 1, col), (row - 1, col - 1))\n",
    "        ]\n",
    "        for primary, orthogonal, diagonal in corners:\n",
    "            outside = primary not in path and orthogonal not in path\n",
    "            inside = primary in path and orthogonal in path and diagonal not in path\n",
    "            sides += 1 if inside or outside else 0\n",
    "    return sides\n",
    "\n",
    "explored_global = set()\n",
    "price = 0\n",
    "for tile in grid.keys():\n",
    "    if tile not in explored_global:\n",
    "        search = set()\n",
    "        explored = set()\n",
    "        search.add(tile)\n",
    "        region_plant = grid[tile]\n",
    "        perimeter = 0\n",
    "        while search:\n",
    "            pos = search.pop()\n",
    "            explored.add(pos)\n",
    "            explored_global.add(pos)\n",
    "            neighbors = yield_neighbors(pos, explored, region_plant)\n",
    "            for n in neighbors:\n",
    "                if n not in explored:\n",
    "                    search.add(n)\n",
    "            perimeter += 4 - len(neighbors)\n",
    "        #print(f'Plant {grid[tile]} A: {len(explored)} P: {perimeter} Sides: {count_sides(explored)} Price: {count_sides(explored)*len(explored)}')\n",
    "        price += count_sides(explored)*len(explored)\n",
    "\n",
    "price"
   ]
  },
  {
   "cell_type": "markdown",
   "metadata": {},
   "source": [
    "Day 13: Part I"
   ]
  },
  {
   "cell_type": "code",
   "execution_count": 1,
   "metadata": {},
   "outputs": [
    {
     "data": {
      "text/plain": [
       "29598"
      ]
     },
     "execution_count": 1,
     "metadata": {},
     "output_type": "execute_result"
    }
   ],
   "source": [
    "import re\n",
    "import numpy as np\n",
    "\n",
    "games = {}\n",
    "with open('inputs/d13.txt') as f:\n",
    "    txt = f.read()\n",
    "    machines = re.findall(r\"Button A: X\\+(\\d+), Y\\+(\\d+)\\nButton B: X\\+(\\d+), Y\\+(\\d+)\\nPrize: X=(\\d+), Y=(\\d+)\\n?\", txt)\n",
    "    spent = 0\n",
    "    for m in machines:\n",
    "        ax, ay, bx, by, px, py = map(int, m)\n",
    "        A = np.array([ax, ay])\n",
    "        B = np.array([bx, by])\n",
    "        P = np.array([px, py])\n",
    "        M = np.column_stack((A, B))\n",
    "        if np.linalg.det(M) != 0:\n",
    "            a, b = np.linalg.solve(M, P)\n",
    "            if np.isclose(a, np.round(a)) and np.isclose(b, np.round(b)):\n",
    "                a, b = int(round(a)), int(round(b))\n",
    "                spent += 3*a + b\n",
    "\n",
    "spent\n",
    "\n"
   ]
  },
  {
   "cell_type": "markdown",
   "metadata": {},
   "source": [
    "Day 13: Part II"
   ]
  },
  {
   "cell_type": "code",
   "execution_count": 2,
   "metadata": {},
   "outputs": [
    {
     "data": {
      "text/plain": [
       "93217456941970"
      ]
     },
     "execution_count": 2,
     "metadata": {},
     "output_type": "execute_result"
    }
   ],
   "source": [
    "import re\n",
    "import numpy as np\n",
    "\n",
    "def is_multiple(button, prize):\n",
    "    if np.all(button == 0):\n",
    "        return (False, None)\n",
    "    ratios = []\n",
    "    for b, p in zip(button, prize):\n",
    "        if b == 0:\n",
    "            if p != 0:\n",
    "                return (False, None)\n",
    "        else:\n",
    "            if p % b != 0:\n",
    "                return (False, None)\n",
    "            ratios.append(p // b)\n",
    "    if not ratios:\n",
    "        return (False, None)\n",
    "    first_ratio = ratios[0]\n",
    "    if all(r == first_ratio for r in ratios) and first_ratio >= 0:\n",
    "        return (True, first_ratio)\n",
    "    return (False, None)\n",
    "\n",
    "spent = 0\n",
    "with open('inputs/d13.txt') as f:\n",
    "    txt = f.read()\n",
    "    machines = re.findall(r\"Button A: X\\+(\\d+), Y\\+(\\d+)\\nButton B: X\\+(\\d+), Y\\+(\\d+)\\nPrize: X=(\\d+), Y=(\\d+)\\n?\", txt)\n",
    "    for m in machines:\n",
    "        ax, ay, bx, by, px, py = map(int, m)\n",
    "        A = np.array([ax, ay])\n",
    "        B = np.array([bx, by])\n",
    "        P = np.array([px, py])\n",
    "        D = ax * by - ay * bx\n",
    "        px += 10**13\n",
    "        py += 10**13\n",
    "        \n",
    "        if D != 0:\n",
    "            a_num = px * by - py * bx\n",
    "            b_num = ax * py - ay * px\n",
    "            if a_num % D == 0 and b_num % D == 0:\n",
    "                a = a_num // D\n",
    "                b = b_num // D\n",
    "                if a >= 0 and b >= 0:\n",
    "                    spent += 3 * a + b\n",
    "        else:            \n",
    "            valid_A, k_A = is_multiple(A, P)\n",
    "            if valid_A:\n",
    "                spent += 3 * k_A\n",
    "            \n",
    "            valid_B, k_B = is_multiple(B, P)\n",
    "            if valid_B:\n",
    "                spent += k_B\n",
    "\n",
    "spent"
   ]
  }
 ],
 "metadata": {
  "kernelspec": {
   "display_name": "adm-AmuXBqwp-py3.12",
   "language": "python",
   "name": "adm-amuxbqwp-py3.12"
  },
  "language_info": {
   "codemirror_mode": {
    "name": "ipython",
    "version": 3
   },
   "file_extension": ".py",
   "mimetype": "text/x-python",
   "name": "python",
   "nbconvert_exporter": "python",
   "pygments_lexer": "ipython3",
   "version": "3.12.5"
  }
 },
 "nbformat": 4,
 "nbformat_minor": 2
}
